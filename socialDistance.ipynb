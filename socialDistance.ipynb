{
 "cells": [
  {
   "cell_type": "markdown",
   "metadata": {},
   "source": [
    "# Problem Description.\n",
    "\n",
    "You’re trying really hard to adhere to social distancing rules, but sometimes your visits to the local park aren’t so easy. You’re trying to get from a point on the south side of the park to a nice patch of grass on the north side. There are several people around and sometimes they aren’t trying as hard as you to do the right thing. But you’ve had a great idea! You launch a drone and create a map of the current location of all of the people in the park. Now you just have to write a little program to find a path such that you stay 6 feet away from every other park-goer!\n",
    "\n",
    "\n",
    "In order to simplify the problem somewhat you divide the part of the park you need to traverse into a 25×25 grid, where each square is 1 foot by 1 foot. You only worry about moving north, east, or west (no looping back to the south). You decide to measure the 6-foot distance from the center of each square using the Pythagorean theorem. Therefore, [0,0] and [0,6] are 6 feet apart, while [0,0] and [4,3] are only 5 feet separated.\n",
    "\n",
    "<img width=\"460\" height=\"300\" src=\"img/SocialDistance.png\">\n",
    "\n",
    "\n",
    "Above is a sample configuration of the park. It is possible different positions on the south side of the park might be specified, and the other park-goers might be in different places. The path shown is simply the first path my solution produced – yours may do something different!\n",
    "\n",
    "In ASP you will create a program which automatically finds and outputs a path through the park, given a starting position on the south edge of the park, the size of the park, the goal Y coordinate, and the positions of any other people in the park.\n",
    "\n",
    "The solution is represented by atoms of predicate ``path/4``:\n",
    "\n",
    "``path(X1,Y1,X2,Y2). % the path has an edge between the cells (X1,Y1) and (X2,Y2)``\n",
    " \n",
    "For instance, the solution of the example consists of the following atoms:"
   ]
  },
  {
   "cell_type": "code",
   "execution_count": null,
   "metadata": {
    "vscode": {
     "languageId": "cuda-cpp"
    }
   },
   "outputs": [],
   "source": [
    "path(13,0,13,1) path(13,1,12,1) path(12,1,11,1) path(11,1,10,1) \n",
    "path(10,1,9,1) path(9,1,9,2) path(9,2,8,2) path(8,2,8,3) path(8,3,7,3) \n",
    "path(7,3,7,4) path(7,4,7,5) path(7,5,7,6)path(7,6,7,7) path(7,7,7,8) \n",
    "path(7,8,7,9) path(7,9,7,10) path(7,10,7,11) path(7,11,7,12)path(7,12,7,13) \n",
    "path(7,13,8,13) path(8,13,8,14) path(8,14,9,14) path(9,14,9,15) \n",
    "path(9,15,10,15) path(10,15,10,16) path(10,16,10,17) path(10,17,10,18) \n",
    "path(10,18,10,19) path(10,19,10,20)path(10,20,10,21) path(10,21,10,22) \n",
    "path(10,22,10,23) path(10,23,10,24)"
   ]
  },
  {
   "cell_type": "markdown",
   "metadata": {},
   "source": [
    "# Representation in ASP.\n",
    "\n",
    "Below are some hints for representation. \n",
    "\n",
    "Constants:\n",
    "\n",
    "n1 is the length of the side\n",
    "\n",
    "n2 is the distance between the south edge and north edge\n",
    "\n",
    "startX is the X-coordinate of the starting position\n",
    "\n",
    "d is the required social distance\n",
    "\n",
    "Predicates:\n",
    "\n",
    "p(X,Y) represents the person at (X,Y)\n",
    "\n",
    "path(X1,Y1,X2,Y2) is the path has an edge between the cells (X1,Y1) and (X2,Y2)\n",
    "\n",
    "You may wish to start with a smaller grid. Perhaps with setup as follows:"
   ]
  },
  {
   "cell_type": "code",
   "execution_count": null,
   "metadata": {
    "vscode": {
     "languageId": "cuda-cpp"
    }
   },
   "outputs": [],
   "source": [
    "#const n1 = 4.  \n",
    "#const n2 = 4.\n",
    "#const startX = 3.\n",
    "#const d = 2.  \n",
    "\n",
    "p(2,2).\n",
    "\n",
    "%Answer:\n",
    "%path(3,0,2,0) path(2,0,1,0) path(1,0,0,0) path(0,0,0,1) path(0,1,0,2) path(0,2,0,3)"
   ]
  },
  {
   "cell_type": "markdown",
   "metadata": {},
   "source": [
    "# Framework.\n",
    "\n",
    "The directory ``asp`` contains the files that you need for the project. In the directory ``asp/instances`` you can find the instances (our example is ``ex01.lp``), and in the directory ``asp/solutions`` you can find their solutions in ``json`` format. \n",
    "\n",
    "You have to submit a file named ``SocialDistance.lp``, included as a template in the directory ``asp``, that contains the following line (and no more ``#show`` statements) so that in the output only the atoms of predicate ``path/4`` appear:\n",
    "\n",
    "``#show path/4.``\n",
    "\n",
    "You can check if your encoding solves correctly all instances by running the ``Python`` script ``test.py`` as follows:\n",
    "* ``python asp/test.py -e asp/SocialDistance.lp -i asp/instances -s asp/solutions -t 180``\n",
    "\n",
    "For help, type `python asp/test.py --help`.\n"
   ]
  }
 ],
 "metadata": {
  "kernelspec": {
   "display_name": "Python 3 (ipykernel)",
   "language": "python",
   "name": "python3"
  },
  "language_info": {
   "codemirror_mode": {
    "name": "ipython",
    "version": 3
   },
   "file_extension": ".py",
   "mimetype": "text/x-python",
   "name": "python",
   "nbconvert_exporter": "python",
   "pygments_lexer": "ipython3",
   "version": "3.9.7"
  }
 },
 "nbformat": 4,
 "nbformat_minor": 4
}
